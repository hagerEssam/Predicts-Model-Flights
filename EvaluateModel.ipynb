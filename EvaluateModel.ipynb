{
  "nbformat": 4,
  "nbformat_minor": 0,
  "metadata": {
    "colab": {
      "name": "EvaluateModel.ipynb",
      "provenance": []
    },
    "kernelspec": {
      "name": "python3",
      "display_name": "Python 3"
    },
    "language_info": {
      "name": "python"
    }
  },
  "cells": [
    {
      "cell_type": "code",
      "execution_count": null,
      "metadata": {
        "id": "pqwhkBkzNC8V"
      },
      "outputs": [],
      "source": [
        "!pip install pyspark"
      ]
    },
    {
      "cell_type": "code",
      "source": [
        "from pyspark.sql import SparkSession\n"
      ],
      "metadata": {
        "id": "ekj_g-3xNVDQ"
      },
      "execution_count": 8,
      "outputs": []
    },
    {
      "cell_type": "code",
      "source": [
        "spark=SparkSession.builder.getOrCreate() "
      ],
      "metadata": {
        "id": "8-FZwz4UOR5j"
      },
      "execution_count": 9,
      "outputs": []
    },
    {
      "cell_type": "code",
      "source": [
        "Flights=spark.read.csv(\"Flights.csv\",header=True)\n",
        "Planes=spark.read.csv(\"planes.csv\",header=True)"
      ],
      "metadata": {
        "id": "Pe_XwsO1PDnp"
      },
      "execution_count": 10,
      "outputs": []
    },
    {
      "cell_type": "code",
      "source": [
        "# Rename year column\n",
        "planes = Planes.withColumnRenamed(\"year\",\"plane_year\")\n"
      ],
      "metadata": {
        "id": "4Xpfy6MeVwGg"
      },
      "execution_count": 34,
      "outputs": []
    },
    {
      "cell_type": "code",
      "source": [
        "# Join the DataFrames\n",
        "model_data = Flights.join(planes, on=\"tailnum\", how=\"leftouter\")"
      ],
      "metadata": {
        "id": "WUkJfmrCQxQA"
      },
      "execution_count": 35,
      "outputs": []
    },
    {
      "cell_type": "code",
      "source": [
        "model_data.show() \n",
        "#Before you get started modeling :Cast the columns to integers (Spark only handles numeric data)"
      ],
      "metadata": {
        "id": "VhvRi176Q60S"
      },
      "execution_count": null,
      "outputs": []
    },
    {
      "cell_type": "code",
      "source": [
        "# Cast the columns to integers\n",
        "model_data = model_data.withColumn(\"arr_delay\", model_data.arr_delay.cast(\"integer\"))\n",
        "model_data = model_data.withColumn(\"air_time\", model_data.air_time.cast(\"integer\"))\n",
        "model_data = model_data.withColumn(\"month\", model_data.month.cast(\"integer\"))\n",
        "model_data = model_data.withColumn(\"plane_year\", model_data.plane_year.cast(\"integer\"))"
      ],
      "metadata": {
        "id": "AxMNnZkwR6I5"
      },
      "execution_count": 37,
      "outputs": []
    },
    {
      "cell_type": "code",
      "source": [
        "# Create the column plane_age\n",
        "model_data = model_data.withColumn(\"plane_age\", model_data.year - model_data.plane_year)"
      ],
      "metadata": {
        "id": "LMU7VjmLc17r"
      },
      "execution_count": 38,
      "outputs": []
    },
    {
      "cell_type": "code",
      "source": [
        "# Create is_late\n",
        "model_data = model_data.withColumn(\"is_late\", model_data.arr_delay > 0)\n",
        "\n",
        "# Convert to an integer\n",
        "model_data = model_data.withColumn(\"label\", model_data.is_late.cast(\"integer\"))\n",
        "\n",
        "# Remove missing values\n",
        "model_data = model_data.filter(\"arr_delay is not NULL and dep_delay is not NULL and air_time is not NULL and plane_year is not NULL\")"
      ],
      "metadata": {
        "id": "pnhJgFl9droV"
      },
      "execution_count": 39,
      "outputs": []
    },
    {
      "cell_type": "code",
      "source": [
        "from pyspark.ml.feature import StringIndexer, OneHotEncoder\n",
        "# Create a StringIndexer (String Indexer:convert the string values into label indices (numeric values))\n",
        "carr_indexer = StringIndexer(inputCol=\"carrier\",outputCol=\"carrier_index\")\n",
        "dest_indexer = StringIndexer(inputCol=\"dest\",outputCol=\"dest_index\")\n",
        "# Create a OneHotEncoder (technique which is used to convert or transform a categorical feature having string labels into  numerical)\n",
        "carr_encoder = OneHotEncoder(inputCol=\"carrier_index\",outputCol=\"carrier_fact\")\n",
        "dest_encoder= OneHotEncoder(inputCol=\"dest_index\",outputCol=\"dest_fact\")"
      ],
      "metadata": {
        "id": "jtbXwwZeduGZ"
      },
      "execution_count": 50,
      "outputs": []
    },
    {
      "cell_type": "markdown",
      "source": [
        ""
      ],
      "metadata": {
        "id": "uDipFq1J8zTl"
      }
    },
    {
      "cell_type": "code",
      "source": [
        "from pyspark.ml.feature import VectorAssembler\n",
        "# Make a VectorAssembler(transformer that combines a given list of columns into a single vector column.)\n",
        "vec_assembler = VectorAssembler(inputCols=[\"month\", \"air_time\", \"carrier_fact\", \"dest_fact\", \"plane_age\"], outputCol=\"features\")"
      ],
      "metadata": {
        "id": "gIgKUNvshleZ"
      },
      "execution_count": 51,
      "outputs": []
    },
    {
      "cell_type": "code",
      "source": [
        "from pyspark.ml import Pipeline\n",
        "\n",
        "# Make the pipeline\n",
        "flights_pipe = Pipeline(stages=[dest_indexer, dest_encoder, carr_indexer, carr_encoder, vec_assembler])"
      ],
      "metadata": {
        "id": "bCclcqxti_WC"
      },
      "execution_count": 52,
      "outputs": []
    },
    {
      "cell_type": "code",
      "source": [
        "# Fit and transform the data\n",
        "piped_data = flights_pipe.fit(model_data).transform(model_data)"
      ],
      "metadata": {
        "id": "TnDeNmfyj4E5"
      },
      "execution_count": 53,
      "outputs": []
    },
    {
      "cell_type": "code",
      "source": [
        "# Split the data into training and test sets\n",
        "training, test = piped_data.randomSplit([.6, .4])"
      ],
      "metadata": {
        "id": "J9T7hMAMkJjV"
      },
      "execution_count": 54,
      "outputs": []
    },
    {
      "cell_type": "code",
      "source": [
        "training.show(5)"
      ],
      "metadata": {
        "colab": {
          "base_uri": "https://localhost:8080/"
        },
        "id": "lTL03gd8klyt",
        "outputId": "b7531b6c-33c6-4635-cbb4-b33dc4580e75"
      },
      "execution_count": 56,
      "outputs": [
        {
          "output_type": "stream",
          "name": "stdout",
          "text": [
            "+-------+----+-----+---+--------+---------+--------+---------+-------+------+------+----+--------+--------+----+------+----------+--------------------+----------------+--------+-------+-----+-----+---------+---------+-------+-----+----------+---------------+-------------+--------------+--------------------+\n",
            "|tailnum|year|month|day|dep_time|dep_delay|arr_time|arr_delay|carrier|flight|origin|dest|air_time|distance|hour|minute|plane_year|                type|    manufacturer|   model|engines|seats|speed|   engine|plane_age|is_late|label|dest_index|      dest_fact|carrier_index|  carrier_fact|            features|\n",
            "+-------+----+-----+---+--------+---------+--------+---------+-------+------+------+----+--------+--------+----+------+----------+--------------------+----------------+--------+-------+-----+-----+---------+---------+-------+-----+----------+---------------+-------------+--------------+--------------------+\n",
            "| N102UW|2014|    5|  7|    1311|        6|    2115|        2|     US|  1971|   SEA| CLT|     274|    2279|  13|    11|      1998|Fixed wing multi ...|AIRBUS INDUSTRIE|A320-214|      2|  182|   NA|Turbo-fan|     16.0|   true|    1|      33.0|(68,[33],[1.0])|          5.0|(10,[5],[1.0])|(81,[0,1,7,45,80]...|\n",
            "| N105UW|2014|    3| 13|    1325|        5|    2123|       13|     US|  1805|   SEA| CLT|     261|    2279|  13|    25|      1999|Fixed wing multi ...|AIRBUS INDUSTRIE|A320-214|      2|  182|   NA|Turbo-fan|     15.0|   true|    1|      33.0|(68,[33],[1.0])|          5.0|(10,[5],[1.0])|(81,[0,1,7,45,80]...|\n",
            "| N107US|2014|    5| 15|    1058|       -2|    1845|      -23|     US|  2092|   SEA| CLT|     264|    2279|  10|    58|      1999|Fixed wing multi ...|AIRBUS INDUSTRIE|A320-214|      2|  182|   NA|Turbo-fan|     15.0|  false|    0|      33.0|(68,[33],[1.0])|          5.0|(10,[5],[1.0])|(81,[0,1,7,45,80]...|\n",
            "| N107US|2014|    9| 14|     509|       -6|     751|       -8|     US|   480|   SEA| PHX|     143|    1107|   5|     9|      1999|Fixed wing multi ...|AIRBUS INDUSTRIE|A320-214|      2|  182|   NA|Turbo-fan|     15.0|  false|    0|       4.0| (68,[4],[1.0])|          5.0|(10,[5],[1.0])|(81,[0,1,7,16,80]...|\n",
            "| N108UW|2014|    6| 17|    1107|        7|    1906|        8|     US|  2092|   SEA| CLT|     273|    2279|  11|     7|      1999|Fixed wing multi ...|AIRBUS INDUSTRIE|A320-214|      2|  182|   NA|Turbo-fan|     15.0|   true|    1|      33.0|(68,[33],[1.0])|          5.0|(10,[5],[1.0])|(81,[0,1,7,45,80]...|\n",
            "+-------+----+-----+---+--------+---------+--------+---------+-------+------+------+----+--------+--------+----+------+----------+--------------------+----------------+--------+-------+-----+-----+---------+---------+-------+-----+----------+---------------+-------------+--------------+--------------------+\n",
            "only showing top 5 rows\n",
            "\n"
          ]
        }
      ]
    },
    {
      "cell_type": "code",
      "source": [
        "test.show(5)"
      ],
      "metadata": {
        "colab": {
          "base_uri": "https://localhost:8080/"
        },
        "id": "4SMuY96tktR4",
        "outputId": "e89d74c5-f118-4955-9faf-9cd4de8becc5"
      },
      "execution_count": 57,
      "outputs": [
        {
          "output_type": "stream",
          "name": "stdout",
          "text": [
            "+-------+----+-----+---+--------+---------+--------+---------+-------+------+------+----+--------+--------+----+------+----------+--------------------+----------------+--------+-------+-----+-----+---------+---------+-------+-----+----------+---------------+-------------+--------------+--------------------+\n",
            "|tailnum|year|month|day|dep_time|dep_delay|arr_time|arr_delay|carrier|flight|origin|dest|air_time|distance|hour|minute|plane_year|                type|    manufacturer|   model|engines|seats|speed|   engine|plane_age|is_late|label|dest_index|      dest_fact|carrier_index|  carrier_fact|            features|\n",
            "+-------+----+-----+---+--------+---------+--------+---------+-------+------+------+----+--------+--------+----+------+----------+--------------------+----------------+--------+-------+-----+-----+---------+---------+-------+-----+----------+---------------+-------------+--------------+--------------------+\n",
            "| N102UW|2014|   11|  9|    2220|       -5|     555|      -11|     US|  1930|   PDX| CLT|     257|    2282|  22|    20|      1998|Fixed wing multi ...|AIRBUS INDUSTRIE|A320-214|      2|  182|   NA|Turbo-fan|     16.0|  false|    0|      33.0|(68,[33],[1.0])|          5.0|(10,[5],[1.0])|(81,[0,1,7,45,80]...|\n",
            "| N107US|2014|    4|  2|    1316|       -4|    2114|        4|     US|  1805|   SEA| CLT|     267|    2279|  13|    16|      1999|Fixed wing multi ...|AIRBUS INDUSTRIE|A320-214|      2|  182|   NA|Turbo-fan|     15.0|   true|    1|      33.0|(68,[33],[1.0])|          5.0|(10,[5],[1.0])|(81,[0,1,7,45,80]...|\n",
            "| N109UW|2014|    5|  2|    2214|       -1|     546|      -24|     US|  1930|   PDX| CLT|     255|    2282|  22|    14|      1999|Fixed wing multi ...|AIRBUS INDUSTRIE|A320-214|      2|  182|   NA|Turbo-fan|     15.0|  false|    0|      33.0|(68,[33],[1.0])|          5.0|(10,[5],[1.0])|(81,[0,1,7,45,80]...|\n",
            "| N119US|2014|   10|  2|    2208|       -7|     548|      -12|     US|  1930|   PDX| CLT|     260|    2282|  22|     8|      2000|Fixed wing multi ...|AIRBUS INDUSTRIE|A320-214|      2|  182|   NA|Turbo-fan|     14.0|  false|    0|      33.0|(68,[33],[1.0])|          5.0|(10,[5],[1.0])|(81,[0,1,7,45,80]...|\n",
            "| N121DE|2014|    9|  1|    2317|        2|     605|      -22|     DL|   910|   SEA| DTW|     205|    1927|  23|    17|      1987|Fixed wing multi ...|          BOEING| 767-332|      2|  330|   NA|Turbo-fan|     27.0|  false|    0|      25.0|(68,[25],[1.0])|          3.0|(10,[3],[1.0])|(81,[0,1,5,37,80]...|\n",
            "+-------+----+-----+---+--------+---------+--------+---------+-------+------+------+----+--------+--------+----+------+----------+--------------------+----------------+--------+-------+-----+-----+---------+---------+-------+-----+----------+---------------+-------------+--------------+--------------------+\n",
            "only showing top 5 rows\n",
            "\n"
          ]
        }
      ]
    }
  ]
}